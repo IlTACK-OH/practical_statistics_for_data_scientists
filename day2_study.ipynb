{
  "nbformat": 4,
  "nbformat_minor": 0,
  "metadata": {
    "colab": {
      "provenance": [],
      "collapsed_sections": [],
      "authorship_tag": "ABX9TyN033Xvpf/ngSvZwxzImX6c",
      "include_colab_link": true
    },
    "kernelspec": {
      "name": "python3",
      "display_name": "Python 3"
    },
    "language_info": {
      "name": "python"
    }
  },
  "cells": [
    {
      "cell_type": "markdown",
      "metadata": {
        "id": "view-in-github",
        "colab_type": "text"
      },
      "source": [
        "<a href=\"https://colab.research.google.com/github/IlTACK-OH/practical_statistics_for_data_scientists/blob/main/day2_study.ipynb\" target=\"_parent\"><img src=\"https://colab.research.google.com/assets/colab-badge.svg\" alt=\"Open In Colab\"/></a>"
      ]
    },
    {
      "cell_type": "code",
      "execution_count": 1,
      "metadata": {
        "id": "pzg9GMiZhmPw"
      },
      "outputs": [],
      "source": [
        "import pandas as pd\n",
        "import numpy as np\n",
        "import matplotlib.pyplot as plt"
      ]
    },
    {
      "cell_type": "markdown",
      "source": [
        "# 1.5.2 도수분포표와 히스토그램"
      ],
      "metadata": {
        "id": "fkyJrpLFlRp4"
      }
    },
    {
      "cell_type": "code",
      "source": [
        "state = pd.read_csv('state.csv')"
      ],
      "metadata": {
        "id": "rZyAh8SolXHi"
      },
      "execution_count": 2,
      "outputs": []
    },
    {
      "cell_type": "code",
      "source": [
        "binnedPopulation = pd.cut(state['Population'],10)\n",
        "binnedPopulation.value_counts()"
      ],
      "metadata": {
        "colab": {
          "base_uri": "https://localhost:8080/"
        },
        "id": "0xB_1TktltFc",
        "outputId": "186ddc79-ad32-45bc-da9f-77d313b8747c"
      },
      "execution_count": 3,
      "outputs": [
        {
          "output_type": "execute_result",
          "data": {
            "text/plain": [
              "(526935.67, 4232659.0]      24\n",
              "(4232659.0, 7901692.0]      14\n",
              "(7901692.0, 11570725.0]      6\n",
              "(11570725.0, 15239758.0]     2\n",
              "(15239758.0, 18908791.0]     1\n",
              "(18908791.0, 22577824.0]     1\n",
              "(22577824.0, 26246857.0]     1\n",
              "(33584923.0, 37253956.0]     1\n",
              "(26246857.0, 29915890.0]     0\n",
              "(29915890.0, 33584923.0]     0\n",
              "Name: Population, dtype: int64"
            ]
          },
          "metadata": {},
          "execution_count": 3
        }
      ]
    },
    {
      "cell_type": "code",
      "source": [
        "ax =(state['Population']/1000000).plot.hist(figsize=(4,4))\n",
        "ax.set_xlabel('Populatin (millions)')"
      ],
      "metadata": {
        "colab": {
          "base_uri": "https://localhost:8080/",
          "height": 300
        },
        "id": "qQUByH-WnOOk",
        "outputId": "f862b36e-fa56-4096-d7a5-6196091d91d5"
      },
      "execution_count": 4,
      "outputs": [
        {
          "output_type": "execute_result",
          "data": {
            "text/plain": [
              "Text(0.5, 0, 'Populatin (millions)')"
            ]
          },
          "metadata": {},
          "execution_count": 4
        },
        {
          "output_type": "display_data",
          "data": {
            "text/plain": [
              "<Figure size 288x288 with 1 Axes>"
            ],
            "image/png": "[encoded data removed]"
          },
          "metadata": {
            "needs_background": "light"
          }
        }
      ]
    },
    {
      "cell_type": "markdown",
      "source": [
        "# 1.5.3 밀도 그림과 추정"
      ],
      "metadata": {
        "id": "Ey3EO0Yeput1"
      }
    },
    {
      "cell_type": "code",
      "source": [
        "ax = state['Murder.Rate'].plot.hist(density=True,xlim=[0,12],bins=range(1,12))\n",
        "state['Murder.Rate'].plot.density(ax=ax)\n",
        "ax.set_xlabel('Murder Rate (per 100,000)')"
      ],
      "metadata": {
        "colab": {
          "base_uri": "https://localhost:8080/",
          "height": 297
        },
        "id": "oIeI1Cy4pwzE",
        "outputId": "3e965434-4251-4f5f-cb37-ea8e919282f4"
      },
      "execution_count": 5,
      "outputs": [
        {
          "output_type": "execute_result",
          "data": {
            "text/plain": [
              "Text(0.5, 0, 'Murder Rate (per 100,000)')"
            ]
          },
          "metadata": {},
          "execution_count": 5
        },
        {
          "output_type": "display_data",
          "data": {
            "text/plain": [
              "<Figure size 432x288 with 1 Axes>"
            ],
            "image/png": "[encoded data removed]"
          },
          "metadata": {
            "needs_background": "light"
          }
        }
      ]
    },
    {
      "cell_type": "markdown",
      "source": [
        "# 1.6 이진 데이터와 범주 데이터 탐색하기"
      ],
      "metadata": {
        "id": "1wGPlRMJwQQB"
      }
    },
    {
      "cell_type": "code",
      "source": [
        "dfw = pd.read_csv('dfw_airline.csv')"
      ],
      "metadata": {
        "id": "S3hwe9r-wUmm"
      },
      "execution_count": 6,
      "outputs": []
    },
    {
      "cell_type": "code",
      "source": [
        "ax = dfw.transpose().plot.bar(figsize=(4,4),legend=False)\n",
        "ax.set_xlabel('Cause of delay')\n",
        "ax.set_ylabel('Count')"
      ],
      "metadata": {
        "colab": {
          "base_uri": "https://localhost:8080/",
          "height": 329
        },
        "id": "B3Ynzg_zwa3A",
        "outputId": "949c9bc8-c918-46ab-c728-039e84c737a0"
      },
      "execution_count": 7,
      "outputs": [
        {
          "output_type": "execute_result",
          "data": {
            "text/plain": [
              "Text(0, 0.5, 'Count')"
            ]
          },
          "metadata": {},
          "execution_count": 7
        },
        {
          "output_type": "display_data",
          "data": {
            "text/plain": [
              "<Figure size 288x288 with 1 Axes>"
            ],
            "image/png": "[encoded data removed]"
          },
          "metadata": {
            "needs_background": "light"
          }
        }
      ]
    },
    {
      "cell_type": "markdown",
      "source": [
        "# 2.3 통계학에서의 표본분포"
      ],
      "metadata": {
        "id": "y4cHdVM60kPa"
      }
    },
    {
      "cell_type": "code",
      "source": [
        "import pandas as pd\n",
        "import seaborn as sns"
      ],
      "metadata": {
        "id": "eDT3-6mT0pSO"
      },
      "execution_count": 8,
      "outputs": []
    },
    {
      "cell_type": "code",
      "source": [
        "loans_income = pd.read_csv('loans_income.csv')"
      ],
      "metadata": {
        "id": "SPLBWdok1KAL"
      },
      "execution_count": 9,
      "outputs": []
    },
    {
      "cell_type": "markdown",
      "source": [
        "# 2.4 부스트트랩"
      ],
      "metadata": {
        "id": "tz48pNgjLr2v"
      }
    },
    {
      "cell_type": "code",
      "source": [
        "sample_data = pd.DataFrame({'income':loans_income.sample(1000)['x'],'type':'Data'})\n",
        "sample_mean_05 = pd.DataFrame({'income':[loans_income.sample(5).mean()['x'] for _ in range(1000)],\n",
        "                               'type':'Mean of 5'})\n",
        "sample_mean_20 = pd.DataFrame({'income':[loans_income.sample(20).mean()['x'] for _ in range(1000)],\n",
        "                               'type':'Mean of 20'})\n",
        "results = pd.concat([sample_data,sample_mean_05,sample_mean_20])\n",
        "\n",
        "g = sns.FacetGrid(results,col='type',col_wrap=1,height=2,aspect=2)\n",
        "g.map(plt.hist,'income',range=[0,200000],bins=40)\n",
        "g.set_axis_labels('Income','Count')\n",
        "g.set_titles('{col_name}')\n"
      ],
      "metadata": {
        "colab": {
          "base_uri": "https://localhost:8080/",
          "height": 459
        },
        "collapsed": true,
        "id": "JYiayBhR07CK",
        "outputId": "cb0b0112-cb3a-4b30-858d-8dead61b570b"
      },
      "execution_count": 10,
      "outputs": [
        {
          "output_type": "execute_result",
          "data": {
            "text/plain": [
              "<seaborn.axisgrid.FacetGrid at 0x7f6cc92d4910>"
            ]
          },
          "metadata": {},
          "execution_count": 10
        },
        {
          "output_type": "display_data",
          "data": {
            "text/plain": [
              "<Figure size 288x432 with 3 Axes>"
            ],
            "image/png": "[encoded data removed]"
          },
          "metadata": {
            "needs_background": "light"
          }
        }
      ]
    },
    {
      "cell_type": "code",
      "source": [
        "pip install scikit-learn;"
      ],
      "metadata": {
        "colab": {
          "base_uri": "https://localhost:8080/"
        },
        "id": "ucEfRbIOMIth",
        "outputId": "86e7a5d5-60e9-4c0c-caac-ec8ca24d60cb"
      },
      "execution_count": 11,
      "outputs": [
        {
          "output_type": "stream",
          "name": "stdout",
          "text": [
            "Looking in indexes: https://pypi.org/simple, https://us-python.pkg.dev/colab-wheels/public/simple/\n",
            "Requirement already satisfied: scikit-learn in /usr/local/lib/python3.7/dist-packages (1.0.2)\n",
            "Requirement already satisfied: threadpoolctl>=2.0.0 in /usr/local/lib/python3.7/dist-packages (from scikit-learn) (3.1.0)\n",
            "Requirement already satisfied: scipy>=1.1.0 in /usr/local/lib/python3.7/dist-packages (from scikit-learn) (1.7.3)\n",
            "Requirement already satisfied: joblib>=0.11 in /usr/local/lib/python3.7/dist-packages (from scikit-learn) (1.2.0)\n",
            "Requirement already satisfied: numpy>=1.14.6 in /usr/local/lib/python3.7/dist-packages (from scikit-learn) (1.21.6)\n"
          ]
        }
      ]
    },
    {
      "cell_type": "code",
      "source": [
        "import sklearn.utils"
      ],
      "metadata": {
        "id": "x4sximTuMf8z"
      },
      "execution_count": 12,
      "outputs": []
    },
    {
      "cell_type": "code",
      "source": [
        "results=[]\n",
        "for nrepeat in range(1000):\n",
        "  sample = sklearn.utils.resample(loans_income)\n",
        "  results.append(sample.median())\n",
        "results = pd.Series(results)"
      ],
      "metadata": {
        "id": "dHdS_4SzMkH5"
      },
      "execution_count": 13,
      "outputs": []
    },
    {
      "cell_type": "code",
      "source": [
        "print('Bootstrap Statistics')\n",
        "print(f'original:{loans_income.median().x}')\n",
        "print(f'bias:{results.mean() - loans_income.median().x}')\n",
        "print(f'std.error:{results.std()}')"
      ],
      "metadata": {
        "colab": {
          "base_uri": "https://localhost:8080/"
        },
        "id": "aq903FmbNaM2",
        "outputId": "2bc3c18b-8038-4bb0-a98e-265a1652ddda"
      },
      "execution_count": 18,
      "outputs": [
        {
          "output_type": "stream",
          "name": "stdout",
          "text": [
            "Bootstrap Statistics\n",
            "original:62000.0\n",
            "bias:-68.30200000000332\n",
            "std.error:208.14727979506745\n"
          ]
        }
      ]
    },
    {
      "cell_type": "markdown",
      "source": [
        "# 2.6.1 표준정규분포와 QQ그림"
      ],
      "metadata": {
        "id": "bSAy0K0BUve5"
      }
    },
    {
      "cell_type": "code",
      "source": [
        "from scipy.stats import norm,probplot"
      ],
      "metadata": {
        "id": "JW7ixBr_VGJs"
      },
      "execution_count": 21,
      "outputs": []
    },
    {
      "cell_type": "code",
      "source": [
        "fig,ax = plt.subplots(figsize=(4,4))\n",
        "norm_sample = norm.rvs(size=100)\n",
        "probplot(norm_sample,plot=ax);"
      ],
      "metadata": {
        "colab": {
          "base_uri": "https://localhost:8080/",
          "height": 295
        },
        "id": "jOGnt53PUyxm",
        "outputId": "b54dae71-56d7-48f5-b6d3-0da59c1f2482"
      },
      "execution_count": 24,
      "outputs": [
        {
          "output_type": "display_data",
          "data": {
            "text/plain": [
              "<Figure size 288x288 with 1 Axes>"
            ],
            "image/png": "[encoded data removed]"
          },
          "metadata": {
            "needs_background": "light"
          }
        }
      ]
    },
    {
      "cell_type": "markdown",
      "source": [
        "# 2.9 이항분포"
      ],
      "metadata": {
        "id": "o2CINNWaX6W1"
      }
    },
    {
      "cell_type": "code",
      "source": [
        "from scipy.stats import binom"
      ],
      "metadata": {
        "id": "azJ0sE8AX9H2"
      },
      "execution_count": 25,
      "outputs": []
    },
    {
      "cell_type": "code",
      "source": [
        "binom.pmf(2,n=5,p=0.1)"
      ],
      "metadata": {
        "colab": {
          "base_uri": "https://localhost:8080/"
        },
        "id": "QQbCYW8aYKT-",
        "outputId": "a5075972-e6c9-4611-a05c-339286344b7f"
      },
      "execution_count": 26,
      "outputs": [
        {
          "output_type": "execute_result",
          "data": {
            "text/plain": [
              "0.07289999999999992"
            ]
          },
          "metadata": {},
          "execution_count": 26
        }
      ]
    },
    {
      "cell_type": "code",
      "source": [
        "binom.cdf(2,n=5,p=0.1)"
      ],
      "metadata": {
        "colab": {
          "base_uri": "https://localhost:8080/"
        },
        "id": "IwVQGQJXYN2f",
        "outputId": "13292e4e-9b0c-440d-8822-ba0aa4e5d5a1"
      },
      "execution_count": 27,
      "outputs": [
        {
          "output_type": "execute_result",
          "data": {
            "text/plain": [
              "0.99144"
            ]
          },
          "metadata": {},
          "execution_count": 27
        }
      ]
    }
  ]
}